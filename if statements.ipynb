{
 "cells": [
  {
   "cell_type": "code",
   "execution_count": 2,
   "metadata": {},
   "outputs": [
    {
     "name": "stdout",
     "output_type": "stream",
     "text": [
      "enter your firstnamekavya\n",
      "hello kavya\n"
     ]
    }
   ],
   "source": [
    "firstname=input(\"enter your firstname\")\n",
    "print(\"hello\",firstname)"
   ]
  },
  {
   "cell_type": "code",
   "execution_count": 4,
   "metadata": {},
   "outputs": [
    {
     "name": "stdout",
     "output_type": "stream",
     "text": [
      "enter your firstnamekavya\n",
      "enter your surnamesetty\n",
      "hello kavya setty\n"
     ]
    }
   ],
   "source": [
    "firstname=input(\"enter your firstname\")\n",
    "surname=input(\"enter your surname\")\n",
    "print(\"hello\",firstname,surname)"
   ]
  },
  {
   "cell_type": "code",
   "execution_count": 6,
   "metadata": {},
   "outputs": [
    {
     "name": "stdout",
     "output_type": "stream",
     "text": [
      "enter the first number10\n",
      "enter the second number20\n",
      "enter the third number30\n",
      "the answer is 60\n"
     ]
    }
   ],
   "source": [
    "num1=int(input(\"enter the first number\"))\n",
    "num2=int(input(\"enter the second number\"))\n",
    "num3=int(input(\"enter the third number\"))\n",
    "answer=num1+num2+num3\n",
    "print(\"the answer is\",answer)"
   ]
  },
  {
   "cell_type": "code",
   "execution_count": 10,
   "metadata": {},
   "outputs": [
    {
     "name": "stdout",
     "output_type": "stream",
     "text": [
      "enter the number10\n",
      "this is not over 50\n"
     ]
    }
   ],
   "source": [
    "num=int(input(\"enter the number\"))\n",
    "if num>50:\n",
    "    print(\"this is over 50\")\n",
    "else:\n",
    "        print(\"this is not over 50\")"
   ]
  },
  {
   "cell_type": "code",
   "execution_count": 30,
   "metadata": {},
   "outputs": [
    {
     "name": "stdout",
     "output_type": "stream",
     "text": [
      "enter a number between 10 and 20:10\n",
      "thank you\n"
     ]
    }
   ],
   "source": [
    "num=int(input(\"enter a number between 10 and 20:\"))\n",
    "if num>=10 and num<=20:\n",
    "    print(\"thank you\")\n",
    "else:\n",
    "        print(\"out of range\")"
   ]
  },
  {
   "cell_type": "code",
   "execution_count": 32,
   "metadata": {},
   "outputs": [
    {
     "name": "stdout",
     "output_type": "stream",
     "text": [
      "enter the first number10\n",
      "enter the second number40\n",
      "10 40\n"
     ]
    }
   ],
   "source": [
    "num1=int(input(\"enter the first number\"))\n",
    "num2=int(input(\"enter the second number\"))\n",
    "if num1>num2:\n",
    "    print(num2,num1)\n",
    "else:\n",
    "        print(num1,num2)"
   ]
  },
  {
   "cell_type": "code",
   "execution_count": 38,
   "metadata": {},
   "outputs": [
    {
     "name": "stdout",
     "output_type": "stream",
     "text": [
      "enter the 1 2 0r 32\n",
      "well done\n"
     ]
    }
   ],
   "source": [
    "num= input(\"enter the 1 2 0r 3\")\n",
    "if num==\"1\":\n",
    "    print(\"thank you\")\n",
    "elif num==\"2\":\n",
    "            print(\"well done\")\n",
    "elif num==\"3\":\n",
    "                    print(\"correct\")\n",
    "else:\n",
    "                        print(\"error\")\n",
    "    "
   ]
  },
  {
   "cell_type": "code",
   "execution_count": 44,
   "metadata": {},
   "outputs": [
    {
     "name": "stdout",
     "output_type": "stream",
     "text": [
      "Is it rainingyes\n",
      "Is it windyyes\n",
      "it is too windy to take an umbrella\n"
     ]
    }
   ],
   "source": [
    "raining=input(\"Is it raining\")\n",
    "raining= str.lower(raining)\n",
    "if raining==\"yes\":\n",
    "    windy=input(\"Is it windy\")\n",
    "    windy=str.lower(windy)\n",
    "    if windy==\"yes\":\n",
    "        print(\"it is too windy to take an umbrella\")\n",
    "    else:\n",
    "            print(\"take an umbrella\")\n",
    "else:\n",
    "                print(\"enjoy your day\")"
   ]
  },
  {
   "cell_type": "code",
   "execution_count": null,
   "metadata": {},
   "outputs": [],
   "source": []
  }
 ],
 "metadata": {
  "kernelspec": {
   "display_name": "Python 3",
   "language": "python",
   "name": "python3"
  },
  "language_info": {
   "codemirror_mode": {
    "name": "ipython",
    "version": 3
   },
   "file_extension": ".py",
   "mimetype": "text/x-python",
   "name": "python",
   "nbconvert_exporter": "python",
   "pygments_lexer": "ipython3",
   "version": "3.7.6"
  }
 },
 "nbformat": 4,
 "nbformat_minor": 4
}
