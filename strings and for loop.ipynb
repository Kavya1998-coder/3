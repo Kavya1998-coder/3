{
 "cells": [
  {
   "cell_type": "code",
   "execution_count": 7,
   "metadata": {},
   "outputs": [
    {
     "name": "stdout",
     "output_type": "stream",
     "text": [
      "hello   world\n"
     ]
    }
   ],
   "source": [
    "text=\"hello   world   \"\n",
    "print(text.strip(\" \"))"
   ]
  },
  {
   "cell_type": "code",
   "execution_count": 8,
   "metadata": {},
   "outputs": [
    {
     "name": "stdout",
     "output_type": "stream",
     "text": [
      "enter your namekavya\n",
      "5\n"
     ]
    }
   ],
   "source": [
    "name=input(\"enter your name\")\n",
    "length=len(name)\n",
    "print(length)"
   ]
  },
  {
   "cell_type": "code",
   "execution_count": 10,
   "metadata": {},
   "outputs": [
    {
     "name": "stdout",
     "output_type": "stream",
     "text": [
      "enter your first namekavya\n",
      "enter your surnamesetty\n",
      "kavya setty\n",
      "11\n"
     ]
    }
   ],
   "source": [
    "firstname=input(\"enter your first name\")\n",
    "surname=input(\"enter your surname\")\n",
    "name=firstname+\" \"+surname\n",
    "length=len(name)\n",
    "print(name)\n",
    "print(length)"
   ]
  },
  {
   "cell_type": "code",
   "execution_count": 11,
   "metadata": {},
   "outputs": [
    {
     "name": "stdout",
     "output_type": "stream",
     "text": [
      "enter your first nameabhi\n",
      "enter your surnameprasad\n",
      "Abhi Prasad\n"
     ]
    }
   ],
   "source": [
    "firstname=input(\"enter your first name\")\n",
    "surname=input(\"enter your surname\")\n",
    "firstname=firstname.title()\n",
    "surname=surname.title()\n",
    "name=firstname+\" \"+surname\n",
    "print(name)"
   ]
  },
  {
   "cell_type": "code",
   "execution_count": 13,
   "metadata": {},
   "outputs": [
    {
     "name": "stdout",
     "output_type": "stream",
     "text": [
      "enter a wordsuraj\n",
      "SURAJ\n"
     ]
    }
   ],
   "source": [
    "word=input(\"enter a word\")\n",
    "word=word.upper()\n",
    "print(word)"
   ]
  },
  {
   "cell_type": "code",
   "execution_count": 14,
   "metadata": {},
   "outputs": [
    {
     "name": "stdout",
     "output_type": "stream",
     "text": [
      "enter a number with lots of decimal places1.2345555667\n",
      "2.4691111334\n",
      "2.47\n"
     ]
    }
   ],
   "source": [
    "import math\n",
    "num=float(input(\"enter a number with lots of decimal places\"))\n",
    "answer=num*2\n",
    "print(answer)\n",
    "print(round(answer,2))\n"
   ]
  },
  {
   "cell_type": "code",
   "execution_count": 16,
   "metadata": {},
   "outputs": [
    {
     "name": "stdout",
     "output_type": "stream",
     "text": [
      "3.14159\n"
     ]
    }
   ],
   "source": [
    "import math\n",
    "print(round(math.pi,5))"
   ]
  },
  {
   "cell_type": "code",
   "execution_count": 17,
   "metadata": {},
   "outputs": [
    {
     "name": "stdout",
     "output_type": "stream",
     "text": [
      "enter the radus of the circle5\n",
      "78.53981633974483\n"
     ]
    }
   ],
   "source": [
    "import math\n",
    "radius=int(input(\"enter the radus of the circle\"))\n",
    "area=math.pi*(radius**2)\n",
    "print(area)"
   ]
  },
  {
   "cell_type": "code",
   "execution_count": 20,
   "metadata": {},
   "outputs": [
    {
     "name": "stdout",
     "output_type": "stream",
     "text": [
      "enter the radius of the circle3\n",
      "enter the depth4\n",
      "113.097\n"
     ]
    }
   ],
   "source": [
    "import math\n",
    "radius=int(input(\"enter the radius of the circle\"))\n",
    "depth= int(input(\"enter the depth\"))\n",
    "area=math.pi*(radius**2)\n",
    "volume=area*depth\n",
    "print(round(volume,3))"
   ]
  },
  {
   "cell_type": "code",
   "execution_count": 23,
   "metadata": {},
   "outputs": [
    {
     "name": "stdout",
     "output_type": "stream",
     "text": [
      "enter a number3\n",
      "enter another number4\n",
      "3 divided by 4 is 0 with 3 remaining:\n"
     ]
    }
   ],
   "source": [
    "import math\n",
    "num1=int(input(\"enter a number\"))\n",
    "num2=int(input(\"enter another number\"))\n",
    "ans1=num1//num2\n",
    "ans2=num1%num2\n",
    "print(num1,\"divided by\",num2,\"is\",ans1,\"with\",ans2,\"remaining:\")"
   ]
  },
  {
   "cell_type": "code",
   "execution_count": 24,
   "metadata": {},
   "outputs": [
    {
     "name": "stdout",
     "output_type": "stream",
     "text": [
      "1\n",
      "2\n",
      "3\n",
      "4\n",
      "5\n",
      "6\n",
      "7\n",
      "8\n",
      "9\n"
     ]
    }
   ],
   "source": [
    "for i in range(1,10):\n",
    "    print(i)"
   ]
  },
  {
   "cell_type": "code",
   "execution_count": 26,
   "metadata": {},
   "outputs": [
    {
     "name": "stdout",
     "output_type": "stream",
     "text": [
      "1\n",
      "3\n",
      "5\n",
      "7\n",
      "9\n"
     ]
    }
   ],
   "source": [
    "for i in range(1,10,2):\n",
    "    \n",
    "    print(i)"
   ]
  },
  {
   "cell_type": "code",
   "execution_count": 29,
   "metadata": {},
   "outputs": [
    {
     "name": "stdout",
     "output_type": "stream",
     "text": [
      "10\n",
      "7\n",
      "4\n"
     ]
    }
   ],
   "source": [
    "for i in range(10,1,-3):\n",
    "    print(i)"
   ]
  },
  {
   "cell_type": "code",
   "execution_count": 33,
   "metadata": {},
   "outputs": [
    {
     "name": "stdout",
     "output_type": "stream",
     "text": [
      "S\n",
      "U\n",
      "R\n",
      "A\n",
      "J\n"
     ]
    }
   ],
   "source": [
    "for i in word:\n",
    "    print(i)"
   ]
  },
  {
   "cell_type": "code",
   "execution_count": 34,
   "metadata": {},
   "outputs": [
    {
     "name": "stdout",
     "output_type": "stream",
     "text": [
      "enter your namekavya\n",
      "kavya\n",
      "kavya\n",
      "kavya\n"
     ]
    }
   ],
   "source": [
    "name=input(\"enter your name\")\n",
    "for i in range(0,3):\n",
    "    print(name)"
   ]
  },
  {
   "cell_type": "code",
   "execution_count": 36,
   "metadata": {},
   "outputs": [
    {
     "name": "stdout",
     "output_type": "stream",
     "text": [
      "enter your nameaishu\n",
      "enter a number4\n",
      "aishu\n",
      "aishu\n",
      "aishu\n",
      "aishu\n"
     ]
    }
   ],
   "source": [
    "name=input(\"enter your name\")\n",
    "number=int(input(\"enter a number\"))\n",
    "for i in range(0,number):\n",
    "    print(name)"
   ]
  },
  {
   "cell_type": "code",
   "execution_count": 38,
   "metadata": {},
   "outputs": [
    {
     "name": "stdout",
     "output_type": "stream",
     "text": [
      "enter a namejonas\n",
      "j\n",
      "o\n",
      "n\n",
      "a\n",
      "s\n"
     ]
    }
   ],
   "source": [
    "name=input(\"enter a name\")\n",
    "for i in name:\n",
    "    print(i)"
   ]
  },
  {
   "cell_type": "code",
   "execution_count": 44,
   "metadata": {},
   "outputs": [
    {
     "name": "stdout",
     "output_type": "stream",
     "text": [
      "enter your namemikkel\n",
      "enter a number2\n",
      "m\n",
      "i\n",
      "k\n",
      "k\n",
      "e\n",
      "l\n",
      "m\n",
      "i\n",
      "k\n",
      "k\n",
      "e\n",
      "l\n"
     ]
    }
   ],
   "source": [
    "name=input(\"enter your name\")\n",
    "number=int(input(\"enter a number\"))\n",
    "for x in range(0,number):\n",
    "    for i in name:\n",
    "        print(i)\n",
    "    "
   ]
  },
  {
   "cell_type": "code",
   "execution_count": 47,
   "metadata": {},
   "outputs": [
    {
     "name": "stdout",
     "output_type": "stream",
     "text": [
      "enter a number between 1 t0 12: 8\n",
      "1 x 8 = 8\n",
      "2 x 8 = 16\n",
      "3 x 8 = 24\n",
      "4 x 8 = 32\n",
      "5 x 8 = 40\n",
      "6 x 8 = 48\n",
      "7 x 8 = 56\n",
      "8 x 8 = 64\n",
      "9 x 8 = 72\n",
      "10 x 8 = 80\n",
      "11 x 8 = 88\n",
      "12 x 8 = 96\n"
     ]
    }
   ],
   "source": [
    "num=int(input(\"enter a number between 1 t0 12: \"))\n",
    "for i in range(1,13):\n",
    "    answer=i*num\n",
    "    print(i,\"x\",num,\"=\",answer)\n",
    "    \n"
   ]
  },
  {
   "cell_type": "markdown",
   "metadata": {},
   "source": [
    "\n"
   ]
  },
  {
   "cell_type": "code",
   "execution_count": 49,
   "metadata": {
    "scrolled": true
   },
   "outputs": [
    {
     "name": "stdout",
     "output_type": "stream",
     "text": [
      "enter a number within 50: 20\n",
      "50\n",
      "49\n",
      "48\n",
      "47\n",
      "46\n",
      "45\n",
      "44\n",
      "43\n",
      "42\n",
      "41\n",
      "40\n",
      "39\n",
      "38\n",
      "37\n",
      "36\n",
      "35\n",
      "34\n",
      "33\n",
      "32\n",
      "31\n",
      "30\n",
      "29\n",
      "28\n",
      "27\n",
      "26\n",
      "25\n",
      "24\n",
      "23\n",
      "22\n",
      "21\n",
      "20\n"
     ]
    }
   ],
   "source": [
    "num=int(input(\"enter a number within 50: \"))\n",
    "\n",
    "for i in range(50,num-1,-1):\n",
    "    print(i)"
   ]
  }
 ],
 "metadata": {
  "kernelspec": {
   "display_name": "Python 3",
   "language": "python",
   "name": "python3"
  },
  "language_info": {
   "codemirror_mode": {
    "name": "ipython",
    "version": 3
   },
   "file_extension": ".py",
   "mimetype": "text/x-python",
   "name": "python",
   "nbconvert_exporter": "python",
   "pygments_lexer": "ipython3",
   "version": "3.7.6"
  }
 },
 "nbformat": 4,
 "nbformat_minor": 4
}
