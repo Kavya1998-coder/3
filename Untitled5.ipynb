{
 "cells": [
  {
   "cell_type": "code",
   "execution_count": 9,
   "metadata": {},
   "outputs": [
    {
     "name": "stdout",
     "output_type": "stream",
     "text": [
      "H*e*l*l*o*"
     ]
    }
   ],
   "source": [
    "msg=\"Hello\"\n",
    "for letter in msg:  \n",
    "    print(letter,end=\"*\") \n",
    "    "
   ]
  },
  {
   "cell_type": "code",
   "execution_count": 12,
   "metadata": {},
   "outputs": [
    {
     "name": "stdout",
     "output_type": "stream",
     "text": [
      "enter your namekavya\n",
      "that has 5 characters in it\n",
      "enter your surnamesetty\n",
      "that has 5 characters in it\n",
      "your fulll name is kavya setty\n",
      "that has 11 characters in it\n"
     ]
    }
   ],
   "source": [
    "fname=input(\"enter your name\")\n",
    "print(\"that has\",len(fname),\"characters in it\")\n",
    "sname=input(\"enter your surname\")\n",
    "print(\"that has\",len(sname),\"characters in it\")\n",
    "name=fname+\" \"+sname\n",
    "print(\"your fulll name is\",name)\n",
    "print(\"that has\",len(name),\"characters in it\")\n"
   ]
  },
  {
   "cell_type": "code",
   "execution_count": 13,
   "metadata": {},
   "outputs": [
    {
     "name": "stdout",
     "output_type": "stream",
     "text": [
      "enter your fav subscience\n",
      "s-c-i-e-n-c-e-"
     ]
    }
   ],
   "source": [
    "subject=input(\"enter your fav sub\")\n",
    "for letter in subject:  \n",
    "    print(letter,end=\"-\") "
   ]
  },
  {
   "cell_type": "code",
   "execution_count": 16,
   "metadata": {},
   "outputs": [
    {
     "name": "stdout",
     "output_type": "stream",
     "text": [
      "enter your passcodekalkdoajfk\n",
      "KA\n"
     ]
    }
   ],
   "source": [
    "postcode=input(\"enter your passcode\")\n",
    "start =postcode[0:2]\n",
    "print(start.upper())"
   ]
  },
  {
   "cell_type": "code",
   "execution_count": 22,
   "metadata": {},
   "outputs": [
    {
     "name": "stdout",
     "output_type": "stream",
     "text": [
      "enter your password  HELLO\n",
      "confirm ur password  hello\n",
      "they should be of same case\n"
     ]
    }
   ],
   "source": [
    "pwd1=input(\"enter your password  \")\n",
    "pwd2=input(\"confirm ur password  \")\n",
    "if pwd1==pwd2:\n",
    "    print(\"thank you\")\n",
    "elif pwd1.lower()==pwd2.lower():\n",
    "            print(\"they should be of same case\")\n",
    "else:\n",
    "                print(\"incorrect\")"
   ]
  },
  {
   "cell_type": "code",
   "execution_count": null,
   "metadata": {},
   "outputs": [],
   "source": [
    "msg=input(\"enter a msg in uppercase \")\n",
    "tryagain= False\n",
    "while tryagain == False:\n",
    "    if msg.isupper():\n",
    "        print(\"thank you\")\n",
    "        tryagain==True\n",
    "    else:\n",
    "            print(\"try again\")\n",
    "            msg=input(\"enter a msg in uppercase \")\n",
    "\n"
   ]
  },
  {
   "cell_type": "code",
   "execution_count": null,
   "metadata": {},
   "outputs": [],
   "source": []
  }
 ],
 "metadata": {
  "kernelspec": {
   "display_name": "Python 3",
   "language": "python",
   "name": "python3"
  },
  "language_info": {
   "codemirror_mode": {
    "name": "ipython",
    "version": 3
   },
   "file_extension": ".py",
   "mimetype": "text/x-python",
   "name": "python",
   "nbconvert_exporter": "python",
   "pygments_lexer": "ipython3",
   "version": "3.7.6"
  }
 },
 "nbformat": 4,
 "nbformat_minor": 4
}
