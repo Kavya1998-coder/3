{
 "cells": [
  {
   "cell_type": "markdown",
   "metadata": {},
   "source": [
    "# math"
   ]
  },
  {
   "cell_type": "code",
   "execution_count": 2,
   "metadata": {},
   "outputs": [
    {
     "name": "stdout",
     "output_type": "stream",
     "text": [
      "enter a number10\n",
      "20.0\n"
     ]
    }
   ],
   "source": [
    "num =float(input(\"enter a number\"))\n",
    "print(num*2)\n",
    "           "
   ]
  },
  {
   "cell_type": "code",
   "execution_count": 4,
   "metadata": {},
   "outputs": [
    {
     "name": "stdout",
     "output_type": "stream",
     "text": [
      "enter a number with lots of decimal number1.438793846\n",
      "2.0701277312874717\n"
     ]
    }
   ],
   "source": [
    "num =float(input(\"enter a number with lots of decimal number\"))\n",
    "print(num**2)"
   ]
  },
  {
   "cell_type": "code",
   "execution_count": 5,
   "metadata": {},
   "outputs": [
    {
     "name": "stdout",
     "output_type": "stream",
     "text": [
      "enter a number with lots of decimal number1.23546\n",
      "1.5263614116\n",
      "1.53\n"
     ]
    }
   ],
   "source": [
    "num =float(input(\"enter a number with lots of decimal number\"))\n",
    "answer=(num**2)\n",
    "print(answer)\n",
    "print(round(answer,2))"
   ]
  },
  {
   "cell_type": "code",
   "execution_count": 6,
   "metadata": {},
   "outputs": [
    {
     "name": "stdout",
     "output_type": "stream",
     "text": [
      "enter a number79\n",
      "8.89\n"
     ]
    }
   ],
   "source": [
    "import math\n",
    "num =int(input(\"enter a number\"))\n",
    "answer=math.sqrt(num)\n",
    "print(round(answer,2))\n",
    "\n"
   ]
  },
  {
   "cell_type": "code",
   "execution_count": 9,
   "metadata": {},
   "outputs": [
    {
     "name": "stdout",
     "output_type": "stream",
     "text": [
      "enter the radius of the circle 8\n",
      "201.06192982974676\n"
     ]
    }
   ],
   "source": [
    "import math\n",
    "r=int(input(\"enter the radius of the circle \"))\n",
    "a=math.pi*(r**2)\n",
    "print(a)"
   ]
  },
  {
   "cell_type": "code",
   "execution_count": 13,
   "metadata": {},
   "outputs": [
    {
     "name": "stdout",
     "output_type": "stream",
     "text": [
      "enter the radius of the circle 6\n",
      "enter d 8\n",
      "904.779\n"
     ]
    }
   ],
   "source": [
    "import math\n",
    "r=int(input(\"enter the radius of the circle \"))\n",
    "d=int(input(\"enter d \"))\n",
    "a=math.pi*(r**2)\n",
    "v=a*d\n",
    "print(round(v,3))"
   ]
  },
  {
   "cell_type": "code",
   "execution_count": null,
   "metadata": {},
   "outputs": [],
   "source": []
  },
  {
   "cell_type": "code",
   "execution_count": null,
   "metadata": {},
   "outputs": [],
   "source": [
    "num1=int(input(\"enter num\"))\n",
    "num2=int(input(\"enter num\"))\n",
    "ans1= num1//num2\n",
    "ans2= num1%num2\n",
    "print(num1,\"divided by\",num2,\"is\",ans1,\"with\",ans2, \"remainining\")"
   ]
  },
  {
   "cell_type": "code",
   "execution_count": null,
   "metadata": {},
   "outputs": [],
   "source": []
  }
 ],
 "metadata": {
  "kernelspec": {
   "display_name": "Python 3",
   "language": "python",
   "name": "python3"
  },
  "language_info": {
   "codemirror_mode": {
    "name": "ipython",
    "version": 3
   },
   "file_extension": ".py",
   "mimetype": "text/x-python",
   "name": "python",
   "nbconvert_exporter": "python",
   "pygments_lexer": "ipython3",
   "version": "3.7.6"
  }
 },
 "nbformat": 4,
 "nbformat_minor": 4
}
